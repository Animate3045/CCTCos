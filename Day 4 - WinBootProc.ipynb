{
 "cells": [
  {
   "cell_type": "code",
   "execution_count": null,
   "metadata": {
    "vscode": {
     "languageId": "powershell"
    }
   },
   "outputs": [],
   "source": [
    "<#\n",
    "HAL_DLL - interfaces between  hardware and (Software?)\n",
    "\n",
    "Session0 runs in the background - no physical user logs into the session\n",
    "Windows builtin accounts run session0\n",
    "there is no account or session that has higher priviledges\n",
    "\n",
    "#>\n"
   ]
  },
  {
   "cell_type": "code",
   "execution_count": null,
   "metadata": {
    "vscode": {
     "languageId": "shellscript"
    }
   },
   "outputs": [],
   "source": [
    "#save BCD so you don't fuck it up\n",
    "bcdedit /export C:\\Lion_BCD\n",
    "\n",
    "bcdedit /set description \"Windows 7 - LION DEN\"\n",
    "\n",
    "bcdedit /displayorder {<identifier>} /addfirst #doesn't actually change the load order, just how it's shown\n"
   ]
  }
 ],
 "metadata": {
  "language_info": {
   "name": "python"
  }
 },
 "nbformat": 4,
 "nbformat_minor": 2
}
