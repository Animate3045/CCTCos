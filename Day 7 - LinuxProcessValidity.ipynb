{
 "cells": [
  {
   "cell_type": "code",
   "execution_count": null,
   "metadata": {
    "vscode": {
     "languageId": "shellscript"
    }
   },
   "outputs": [],
   "source": [
    "ps -aux #shows processes chronologically"
   ]
  },
  {
   "cell_type": "code",
   "execution_count": null,
   "metadata": {
    "vscode": {
     "languageId": "shellscript"
    }
   },
   "outputs": [],
   "source": [
    "top #shows a dynamic real time view of the running system --> there's one or two challenges that might take 10+ minutes to see"
   ]
  },
  {
   "cell_type": "code",
   "execution_count": null,
   "metadata": {
    "vscode": {
     "languageId": "shellscript"
    }
   },
   "outputs": [],
   "source": [
    "htop #you can modify what you see by hitting f2 -> columns | PID, PPID, User, nice, command, time, state"
   ]
  },
  {
   "cell_type": "code",
   "execution_count": null,
   "metadata": {
    "vscode": {
     "languageId": "shellscript"
    }
   },
   "outputs": [],
   "source": [
    "ps -elf | head # see initial startup process\n",
    "#system initialization is always PID 1 on linux (4 on windows)\n",
    "#PID 0 is the kernel --> PPID for system initialization\n",
    "#All kernel processes are forked off kthredd"
   ]
  },
  {
   "cell_type": "code",
   "execution_count": null,
   "metadata": {
    "vscode": {
     "languageId": "shellscript"
    }
   },
   "outputs": [],
   "source": [
    "#system users = builtin/default users that handle services\n",
    "#human users = people\n",
    "grep UID /etc/login.defs #shows UID limits\n",
    "#euid or ruid are almost always the same - special permissions like suid bits (s in permission - will run as the user who owns regardless of who runs)"
   ]
  },
  {
   "cell_type": "code",
   "execution_count": null,
   "metadata": {
    "vscode": {
     "languageId": "shellscript"
    }
   },
   "outputs": [],
   "source": [
    "ps -aux --forrest # displays process tree as you spawn new processes"
   ]
  },
  {
   "cell_type": "code",
   "execution_count": null,
   "metadata": {
    "vscode": {
     "languageId": "shellscript"
    }
   },
   "outputs": [],
   "source": [
    "ps -elf --ppid 2 | head -n 10"
   ]
  },
  {
   "cell_type": "code",
   "execution_count": null,
   "metadata": {
    "vscode": {
     "languageId": "shellscript"
    }
   },
   "outputs": [],
   "source": [
    "# grep -v grep | deletes the grep call out of your processes to help clean up output and prevent confusion\n"
   ]
  },
  {
   "cell_type": "code",
   "execution_count": null,
   "metadata": {
    "vscode": {
     "languageId": "shellscript"
    }
   },
   "outputs": [],
   "source": [
    "# service ssh status - SysV (Minas_Tirith)\n",
    "# systemctl status ssh - Systemd (Terra)"
   ]
  },
  {
   "cell_type": "code",
   "execution_count": null,
   "metadata": {
    "vscode": {
     "languageId": "shellscript"
    }
   },
   "outputs": [],
   "source": [
    "#get process number\n",
    "ps -elf | grep -v grep | grep sshd\n",
    "#sudo into PID directory\n",
    "sudo ls -l /proc/PROCESSNUMBER\n",
    "ps -elf | grep -v grep | grep sshd\n",
    "#look for the exe link to actual binary"
   ]
  }
 ],
 "metadata": {
  "language_info": {
   "name": "python"
  }
 },
 "nbformat": 4,
 "nbformat_minor": 2
}
