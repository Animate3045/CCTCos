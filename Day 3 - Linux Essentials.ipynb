{
 "cells": [
  {
   "cell_type": "code",
   "execution_count": null,
   "metadata": {
    "vscode": {
     "languageId": "powershell"
    }
   },
   "outputs": [],
   "source": [
    "<#\n",
    "***ss64.com - has all of the man pages for all command lines\n",
    "explainshell.com\n",
    "(man7.org & die.net)\n",
    "- ss and netstat are commands I need to remember and use\n",
    "- use ls -l  || ll >> -Rlisa\n",
    "\n",
    "outfile using redirection and then grep against that - makes easier to search against\n",
    "\n",
    "append vs outfile - know if you need to accumulate data\n",
    "\n",
    "all user commands are stored in /bin\n",
    "\n",
    "etc - everything configurable\n",
    "\n",
    "var - variable data files -- logs are stored here by default\n",
    "\n",
    "ls -l /etc | awk -F \" \" '{print$3\",\"$4\",\"$9}' > files.csv\n",
    "****Need to figure out what your delimiter is. Tab is not the tab key\n",
    "#>"
   ]
  },
  {
   "cell_type": "code",
   "execution_count": null,
   "metadata": {
    "vscode": {
     "languageId": "shellscript"
    }
   },
   "outputs": [],
   "source": [
    "#find files by number of lines\n",
    "find /home/garviel -type f -exec wc -l {} + | sort -rn"
   ]
  },
  {
   "cell_type": "code",
   "execution_count": null,
   "metadata": {
    "vscode": {
     "languageId": "shellscript"
    }
   },
   "outputs": [],
   "source": [
    "#find directory\n",
    "find / -type d -name 'httpdocs'"
   ]
  },
  {
   "cell_type": "code",
   "execution_count": null,
   "metadata": {
    "vscode": {
     "languageId": "shellscript"
    }
   },
   "outputs": [],
   "source": [
    "#passwords\n",
    "https://serverfault.com/questions/439650/how-are-the-hashes-in-etc-shadow-generated\n",
    "https://www.cyberciti.biz/faq/understanding-etcshadow-file/\n"
   ]
  },
  {
   "cell_type": "code",
   "execution_count": null,
   "metadata": {
    "vscode": {
     "languageId": "shellscript"
    }
   },
   "outputs": [],
   "source": []
  }
 ],
 "metadata": {
  "language_info": {
   "name": "python"
  }
 },
 "nbformat": 4,
 "nbformat_minor": 2
}
