{
 "cells": [
  {
   "cell_type": "markdown",
   "metadata": {},
   "source": [
    "- Don't ssh --> powershell. It's funky and will piss you off. Use PSSession\n",
    "- Invoke-webRequest + outfile instead of $wc = new-Object System.net.WebClient; $wc.Downloadfile\n",
    "(new-Object system.net.webClient).downloadFile($url, $output)\n"
   ]
  },
  {
   "cell_type": "code",
   "execution_count": null,
   "metadata": {
    "vscode": {
     "languageId": "powershell"
    }
   },
   "outputs": [],
   "source": [
    "#use get-member to identify the things you want to select/display\n",
    "get-process | get-member;\n",
    "\n",
    "get-process | select-object; \n",
    "\n",
    "#if you want to see just one property, wrap it \"()\" \".property\"\n",
    "(get-process).name;\n"
   ]
  },
  {
   "cell_type": "code",
   "execution_count": null,
   "metadata": {
    "vscode": {
     "languageId": "powershell"
    }
   },
   "outputs": [],
   "source": [
    "start-prcess notepad.exe;\n",
    "\n",
    "#Using the kill method to end a process\n",
    "(get-process notepad).kill();"
   ]
  },
  {
   "cell_type": "code",
   "execution_count": null,
   "metadata": {
    "vscode": {
     "languageId": "powershell"
    }
   },
   "outputs": [],
   "source": [
    "get-process |Select-Object name,id |where-object {$_.name -eq \"svchost\" -and $_.Id -eq \"8576\"}\n"
   ]
  },
  {
   "cell_type": "code",
   "execution_count": null,
   "metadata": {
    "vscode": {
     "languageId": "powershell"
    }
   },
   "outputs": [],
   "source": [
    "<#Provides parent process ID#>\n",
    "Get-CimInstance -ClassName Win32_process;\n",
    "\n",
    "#getting the real time\n",
    "$Today = (get-Date).DateTime;\n",
    "\n",
    "#Get-Member also shows type\n",
    "$A = 12;\n",
    "$A | Get-Member;"
   ]
  },
  {
   "cell_type": "code",
   "execution_count": null,
   "metadata": {
    "vscode": {
     "languageId": "powershell"
    }
   },
   "outputs": [],
   "source": [
    "$A = 0..9\n",
    "for ($i = 0; $i -le ($a.length - 1); $i += 2) {\n",
    "  $A[$i]\n",
    "}"
   ]
  },
  {
   "cell_type": "code",
   "execution_count": null,
   "metadata": {
    "vscode": {
     "languageId": "powershell"
    }
   },
   "outputs": [],
   "source": [
    "<#Making a new Profile#>\n",
    "#call the profile you want\n",
    "$Profile.currentusercurrenthost;\n",
    "#Copy the path that comes out\n",
    "new-item \"path\";\n",
    "\n",
    "$Profile | Get-member -Type NoteProperty | format-list;"
   ]
  },
  {
   "cell_type": "code",
   "execution_count": null,
   "metadata": {
    "vscode": {
     "languageId": "powershell"
    }
   },
   "outputs": [],
   "source": [
    "start-transcript -path $transcript -IncludeInvocationHeader #will save a time stamp;"
   ]
  },
  {
   "cell_type": "code",
   "execution_count": null,
   "metadata": {
    "vscode": {
     "languageId": "powershell"
    }
   },
   "outputs": [],
   "source": [
    "enable-PSRemoting -SkipNetworkProfileCheck -force;\n",
    "get-item WSMan:\\localhost\\Client\\TrustedHosts;\n",
    "set-item WSMan:\\localhost\\Client\\TrustedHosts -value *\n",
    "$creds = get-Credential andy.dwyer BurtMacklinFBI\n",
    "enter-PSSession -ComputerName 1.2.3.4 -credential $creds;"
   ]
  }
 ],
 "metadata": {
  "language_info": {
   "name": "python"
  }
 },
 "nbformat": 4,
 "nbformat_minor": 2
}
