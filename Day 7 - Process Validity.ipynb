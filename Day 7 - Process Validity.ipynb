{
 "cells": [
  {
   "cell_type": "code",
   "execution_count": null,
   "metadata": {
    "vscode": {
     "languageId": "powershell"
    }
   },
   "outputs": [],
   "source": [
    "<#\n",
    "You want to know what right looks like (normal)\n",
    "    -Adjacent Malware\n",
    "    -Hiding your process in begnin traffic\n",
    "Documentation pages for process or other executable - where to find info on DLLs\n",
    "- DLLs can be malicious - injecting or hijacking DLLs from valid processes\n",
    "\n",
    "Service runs in the background constantly, process is something you opened and close out when you're done\n",
    "#>"
   ]
  },
  {
   "cell_type": "code",
   "execution_count": null,
   "metadata": {
    "vscode": {
     "languageId": "powershell"
    }
   },
   "outputs": [],
   "source": [
    "Get-process | sort -property ID | select-object -first 10\n",
    "#typically, the lower PID the earlier the process starts\n"
   ]
  },
  {
   "cell_type": "code",
   "execution_count": null,
   "metadata": {
    "vscode": {
     "languageId": "powershell"
    }
   },
   "outputs": [],
   "source": [
    "Get-Process | select-object name,ID,description | sort -property ID\n",
    "#adversaries will not commonly fill out the description\n",
    "\n",
    "Get-Process | SMSS,CRSS, LSASS | Sort -process ID\n",
    "#LSASS - mimicats dumps to snag creds - adversaries can spoof with a misspelling LSSAS, etc\n"
   ]
  },
  {
   "cell_type": "code",
   "execution_count": null,
   "metadata": {
    "vscode": {
     "languageId": "powershell"
    }
   },
   "outputs": [],
   "source": [
    "#View modules/DLLs used by definied processes and their file locations\n",
    "get-process chrome | foreach {$_.modules} | more #will need for challenges\n",
    "#can pipe into ft -wrap to see the full path"
   ]
  },
  {
   "cell_type": "code",
   "execution_count": null,
   "metadata": {
    "vscode": {
     "languageId": "powershell"
    }
   },
   "outputs": [],
   "source": [
    "#get parent process - need to use CIMInstance & need to select parentprocessid as a property (not default)\n",
    "get-CIMInstance Win32_process | select -property name, processid, parentprocessid\n"
   ]
  },
  {
   "cell_type": "code",
   "execution_count": null,
   "metadata": {
    "vscode": {
     "languageId": "powershell"
    }
   },
   "outputs": [],
   "source": [
    "get-CIMInstance Win32_service | select name, processid pathname | ft -wrap | more\n",
    "#svchost wil always come out of system32 - sometimes this will show up as blank. \n",
    "#if its coming from somewhere else... especially userspace... then it's malicious"
   ]
  },
  {
   "cell_type": "code",
   "execution_count": null,
   "metadata": {
    "vscode": {
     "languageId": "powershell"
    }
   },
   "outputs": [],
   "source": [
    "#view all properties of the first scheduled task\n",
    "get-scheduledtask | select * | select -first 1"
   ]
  },
  {
   "cell_type": "code",
   "execution_count": null,
   "metadata": {
    "vscode": {
     "languageId": "powershell"
    }
   },
   "outputs": [],
   "source": [
    "#provides way more data than powershell\n",
    "schtasks /query /tn \"FULLtaskname\" /v /fo list"
   ]
  },
  {
   "cell_type": "code",
   "execution_count": null,
   "metadata": {
    "vscode": {
     "languageId": "powershell"
    }
   },
   "outputs": [],
   "source": [
    "#schtasks == task scheduler (gui)\n",
    "#autoruns.exe from sysinternal tools - image hijacks, scheduled tasks, "
   ]
  },
  {
   "cell_type": "code",
   "execution_count": null,
   "metadata": {
    "vscode": {
     "languageId": "powershell"
    }
   },
   "outputs": [],
   "source": [
    "get-nettcpconnection | select-object localaddress, localport, remoteaddress, remoteport,owningprocess, state | where-object {$_.state -eq \"Established\"}\n",
    "get-nettcpconnection -state established | select-object localaddress,localport,remoteaddress,remoteport,owningprocess # <- faster"
   ]
  },
  {
   "cell_type": "code",
   "execution_count": null,
   "metadata": {
    "vscode": {
     "languageId": "powershell"
    }
   },
   "outputs": [],
   "source": [
    "netstat -anob #need to be admin for the \"b\" flag - b will show the owning process\n",
    "netstat -anob | more | findstr /i established"
   ]
  }
 ],
 "metadata": {
  "language_info": {
   "name": "python"
  }
 },
 "nbformat": 4,
 "nbformat_minor": 2
}
