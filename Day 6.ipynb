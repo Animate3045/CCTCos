{
 "cells": [
  {
   "cell_type": "code",
   "execution_count": null,
   "metadata": {
    "vscode": {
     "languageId": "powershell"
    }
   },
   "outputs": [],
   "source": [
    "ps aux\n",
    "#UAC was created to protect users from themselves\n",
    "#It's the popup that comes up even when running as Admin\n",
    "\n",
    "Registry key is located at \"HKLM\\SOFTWARE\\Microsoft\\Windows\\CurrentVersion\\Policies\\System\"\n"
   ]
  },
  {
   "cell_type": "code",
   "execution_count": null,
   "metadata": {
    "vscode": {
     "languageId": "powershell"
    }
   },
   "outputs": [],
   "source": [
    "<#\n",
    "Will be referring back to sysinternals a lot \n",
    "Need to look up modifications for handles and (filters?) *****\n",
    "SysInternals tools are very loud\n",
    "Autoruns is the most important tool in this class \n",
    "Autoruns is the first thing you're going to open on the test\n",
    "    Scheduled task & Everything are the most useful tabs, but you can find good stuff on others\n",
    "ProcExp\n",
    "    Continue investigation\n",
    "    Use the GUI - file explorer...\n",
    "TCPView\n",
    "    Repeating digits >= 4\n",
    "    Strings of ascending or decending numbers = 5\n",
    "PSExec - Analyze windows privs\n",
    "PsLoggedon - Analyze Logons\n",
    "\n",
    "start4171 - win UAC\n",
    "#>\n",
    "\n",
    "'''\n",
    "*>\n"
   ]
  },
  {
   "cell_type": "code",
   "execution_count": null,
   "metadata": {
    "vscode": {
     "languageId": "powershell"
    }
   },
   "outputs": [],
   "source": [
    "<**>\n"
   ]
  }
 ],
 "metadata": {
  "language_info": {
   "name": "python"
  }
 },
 "nbformat": 4,
 "nbformat_minor": 2
}
