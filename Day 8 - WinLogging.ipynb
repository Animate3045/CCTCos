{
 "cells": [
  {
   "cell_type": "code",
   "execution_count": null,
   "metadata": {
    "vscode": {
     "languageId": "powershell"
    }
   },
   "outputs": [],
   "source": [
    "<#\n",
    "- Use the GUIDs from the Field Guide\n",
    "- Keep cyberchef up\n",
    "- things should not be running from downloads or public folders\n",
    "\n",
    "#>"
   ]
  },
  {
   "cell_type": "code",
   "execution_count": null,
   "metadata": {
    "vscode": {
     "languageId": "powershell"
    }
   },
   "outputs": [],
   "source": [
    "#get names and sids\n",
    "get-localuser | select name,SID\n",
    "\n",
    "GUIDs from the FG\n",
    "Get-ItemProperty \"registry::HKU\\SID\\SOTFWARE\\Microsoft...\""
   ]
  }
 ],
 "metadata": {
  "language_info": {
   "name": "python"
  }
 },
 "nbformat": 4,
 "nbformat_minor": 2
}
