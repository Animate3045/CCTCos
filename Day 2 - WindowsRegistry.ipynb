{
 "cells": [
  {
   "cell_type": "code",
   "execution_count": null,
   "metadata": {
    "vscode": {
     "languageId": "powershell"
    }
   },
   "outputs": [],
   "source": [
    "<#\n",
    "Hives to care about - Machine, Users, and XXXX\n",
    "\n",
    "HKU has all Users - stored by SID\n",
    "HKCU pulls the key from HKU and builds that hive\n",
    "\n",
    "Updating current user will always update users\n",
    "makes more sense to work in Users - it's usually not \"you\" who's fucked up\n",
    "\n",
    "New, not built in accounts start at 1000\n",
    "\n",
    "**only worried about the machine you are on\n",
    "\n",
    "regedit should be disabled at the user level\n",
    "only high-admins (server) vs low (workstation)\n",
    "\n",
    "Don't worry about adds/delets\n",
    "\n",
    "| more  -- allows you to step through a long list\n",
    "\n",
    "Minimum commands to know\n",
    "\n",
    "    Query\n",
    "\n",
    "        Get-ChildItem cmdlet gets the items in one or more specified locations.\n",
    "\n",
    "        Get-ItemProperty cmdlet gets the items in one or more specified locations.\n",
    "\n",
    "        Get-Item cmdlet gets the item at the specified location. It doesn’t get the contents of the item at the location unless you use a wildcard character (*) to request all the contents of the item.\n",
    ".\n",
    "\n",
    "HKCU and HKLM are already loaded as PSDrives\n",
    "- can cd/ls through to manipulate\n",
    "\n",
    "If you're looking for alternate data streams - $DATA\n",
    "\n",
    "HKLM\\SOFTWARE\\Microsoft\\Windows\\CurrentVersion\\Run\n",
    "Current version run - runs every time the hive is loaded\n",
    "current version run once - runs and then deletes itself\n",
    "\n",
    "#>"
   ]
  }
 ],
 "metadata": {
  "language_info": {
   "name": "python"
  }
 },
 "nbformat": 4,
 "nbformat_minor": 2
}
